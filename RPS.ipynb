{
  "cells": [
    {
      "cell_type": "markdown",
      "metadata": {
        "id": "view-in-github",
        "colab_type": "text"
      },
      "source": [
        "<a href=\"https://colab.research.google.com/github/nurkomarhidaya/Proa-ML/blob/main/RPS.ipynb\" target=\"_parent\"><img src=\"https://colab.research.google.com/assets/colab-badge.svg\" alt=\"Open In Colab\"/></a>"
      ]
    },
    {
      "cell_type": "code",
      "execution_count": 1,
      "metadata": {
        "id": "FRbVO86FLvC3"
      },
      "outputs": [],
      "source": [
        "import tensorflow as tf\n",
        "from tensorflow.keras.optimizers import RMSprop\n",
        "from tensorflow.keras.preprocessing.image import ImageDataGenerator\n",
        "from sklearn.model_selection import train_test_split\n",
        "import copy, cv2,glob, shutil"
      ]
    },
    {
      "cell_type": "code",
      "execution_count": 2,
      "metadata": {
        "id": "6s4NnYTwG9cH"
      },
      "outputs": [],
      "source": [
        "import os\n",
        "import numpy as np\n",
        "from google.colab import files\n",
        "from keras.preprocessing import image\n",
        "import matplotlib.pyplot as plt\n",
        "import matplotlib.image as mpimg\n",
        "import zipfile"
      ]
    },
    {
      "cell_type": "code",
      "execution_count": 3,
      "metadata": {
        "id": "m7jKPN7QMjas"
      },
      "outputs": [],
      "source": [
        "class mC(tf.keras.callbacks.Callback):\n",
        "    def on_epoch_end(self, epoch, logs={}):\n",
        "        if(logs.get('accuracy') > 0.96):\n",
        "            self.model.stop_training = True\n",
        "callbacks = mC()"
      ]
    },
    {
      "cell_type": "code",
      "execution_count": 4,
      "metadata": {
        "id": "Exoi1-9IDaKX",
        "colab": {
          "base_uri": "https://localhost:8080/"
        },
        "outputId": "3791d5a1-3147-485b-d38b-c4692ba73557"
      },
      "outputs": [
        {
          "output_type": "stream",
          "name": "stdout",
          "text": [
            "--2022-07-29 16:50:12--  https://storage.googleapis.com/laurencemoroney-blog.appspot.com/rps.zip\n",
            "Resolving storage.googleapis.com (storage.googleapis.com)... 74.125.20.128, 108.177.98.128, 74.125.197.128, ...\n",
            "Connecting to storage.googleapis.com (storage.googleapis.com)|74.125.20.128|:443... connected.\n",
            "HTTP request sent, awaiting response... 200 OK\n",
            "Length: 200682221 (191M) [application/zip]\n",
            "Saving to: ‘/tmp/rps.zip’\n",
            "\n",
            "/tmp/rps.zip        100%[===================>] 191.38M   313MB/s    in 0.6s    \n",
            "\n",
            "2022-07-29 16:50:13 (313 MB/s) - ‘/tmp/rps.zip’ saved [200682221/200682221]\n",
            "\n"
          ]
        }
      ],
      "source": [
        "from google.colab import drive\n",
        "\n",
        "!wget --no-check-certificate \\\n",
        "    https://storage.googleapis.com/laurencemoroney-blog.appspot.com/rps.zip \\\n",
        "    -O /tmp/rps.zip"
      ]
    },
    {
      "cell_type": "code",
      "execution_count": 5,
      "metadata": {
        "id": "vEBM_5AHMj2Z"
      },
      "outputs": [],
      "source": [
        "lz = \"/tmp/rps.zip\"\n",
        "zip_ref = zipfile.ZipFile(lz, 'r')\n",
        "zip_ref.extractall('/tmp/data')\n",
        "zip_ref.close()"
      ]
    },
    {
      "cell_type": "code",
      "execution_count": 7,
      "metadata": {
        "id": "HzjptsQbPDEz"
      },
      "outputs": [],
      "source": [
        "base_dir = '/tmp/rps'\n",
        "data_dir = '/tmp/data/rps'\n",
        "t_dir = os.path.join(base_dir,'train')\n",
        "val_dir = os.path.join(base_dir,'val')\n",
        "roc_dir = os.path.join(data_dir,'rock')\n",
        "pa_dir = os.path.join(data_dir,'paper')\n",
        "sci_dir = os.path.join(data_dir,'scissors')"
      ]
    },
    {
      "cell_type": "code",
      "source": [
        "os.mkdir(base_dir)\n",
        "os.mkdir(t_dir)\n",
        "os.mkdir(val_dir)"
      ],
      "metadata": {
        "id": "9Cbq-TO89J35"
      },
      "execution_count": null,
      "outputs": []
    },
    {
      "cell_type": "code",
      "source": [
        "tr = os.path.join(t_dir, 'rock')\n",
        "tp = os.path.join(t_dir, 'paper')\n",
        "ts = os.path.join(t_dir, 'scissors')\n",
        "vr = os.path.join(val_dir, 'rock')\n",
        "vp = os.path.join(val_dir, 'paper')\n",
        "vs = os.path.join(val_dir, 'scissors')"
      ],
      "metadata": {
        "id": "DwYEATIE-3HK"
      },
      "execution_count": null,
      "outputs": []
    },
    {
      "cell_type": "code",
      "source": [
        "os.mkdir(tr)\n",
        "os.mkdir(tp)\n",
        "os.mkdir(ts)\n",
        "os.mkdir(vr)\n",
        "os.mkdir(vp)\n",
        "os.mkdir(vs)"
      ],
      "metadata": {
        "id": "8oJgSBX8-7u_"
      },
      "execution_count": null,
      "outputs": []
    },
    {
      "cell_type": "code",
      "execution_count": null,
      "metadata": {
        "id": "b4E3luyKocGv"
      },
      "outputs": [],
      "source": [
        "train_sci_dir, val_sci_dir = train_test_split(os.listdir(sci_dir), test_size = 0.40)\n",
        "train_roc_dir, val_roc_dir = train_test_split(os.listdir(roc_dir), test_size = 0.40)\n",
        "train_pa_dir, val_pa_dir = train_test_split(os.listdir(pa_dir), test_size = 0.40)"
      ]
    },
    {
      "cell_type": "code",
      "execution_count": null,
      "metadata": {
        "id": "8i3rHcfModo-"
      },
      "outputs": [],
      "source": [
        "for file in train_roc_dir:\n",
        "    shutil.copy(os.path.join(roc_dir, file), os.path.join(tr, file))\n",
        "for file in val_roc_dir:\n",
        "    shutil.copy(os.path.join(roc_dir, file), os.path.join(vr,file))\n",
        "for file in train_pa_dir:\n",
        "    shutil.copy(os.path.join(pa_dir,file), os.path.join(tp,file))\n",
        "for file in val_pa_dir:\n",
        "    shutil.copy(os.path.join(pa_dir,file), os.path.join(vp,file))\n",
        "\n",
        "for file in train_sci_dir:\n",
        "    shutil.copy(os.path.join(sci_dir,file), os.path.join(ts,file))\n",
        "for file in val_sci_dir:\n",
        "    shutil.copy(os.path.join(sci_dir,file), os.path.join(vs,file))"
      ]
    },
    {
      "cell_type": "code",
      "execution_count": null,
      "metadata": {
        "id": "0mUGwxJBofDf"
      },
      "outputs": [],
      "source": [
        "train_datagen = ImageDataGenerator(\n",
        "    rescale = 1./255,\n",
        "    rotation_range = 20,\n",
        "    horizontal_flip = True,\n",
        "    shear_range = 0.35,\n",
        "    fill_mode = 'nearest',\n",
        ")\n",
        "\n",
        "test_datagen = ImageDataGenerator(\n",
        "    rescale = 1./225,\n",
        "    rotation_range = 20,\n",
        "    horizontal_flip = True,\n",
        "    vertical_flip = True,\n",
        "    shear_range = 0.35,\n",
        "    fill_mode = 'nearest'\n",
        ")"
      ]
    },
    {
      "cell_type": "code",
      "execution_count": null,
      "metadata": {
        "id": "XEi_6fgtoglq",
        "colab": {
          "base_uri": "https://localhost:8080/"
        },
        "outputId": "664cfbde-29b8-455b-afb6-b13f1ad1b670"
      },
      "outputs": [
        {
          "output_type": "stream",
          "name": "stdout",
          "text": [
            "Found 1512 images belonging to 3 classes.\n",
            "Found 1008 images belonging to 3 classes.\n"
          ]
        }
      ],
      "source": [
        "train_generator = train_datagen.flow_from_directory(\n",
        "    t_dir,\n",
        "    target_size=(150,150),\n",
        "    batch_size= 32,\n",
        "    class_mode='categorical'\n",
        ")\n",
        "\n",
        "val_generator = test_datagen.flow_from_directory(\n",
        "    val_dir,\n",
        "    target_size = (150,150),\n",
        "    batch_size = 32,\n",
        "    class_mode = 'categorical'\n",
        ")"
      ]
    },
    {
      "cell_type": "code",
      "execution_count": null,
      "metadata": {
        "id": "-9L9bbsNoh6t",
        "colab": {
          "base_uri": "https://localhost:8080/"
        },
        "outputId": "2a844754-5ed9-4791-c067-2a559b7f99ee"
      },
      "outputs": [
        {
          "output_type": "stream",
          "name": "stdout",
          "text": [
            "Model: \"sequential\"\n",
            "_________________________________________________________________\n",
            " Layer (type)                Output Shape              Param #   \n",
            "=================================================================\n",
            " conv2d (Conv2D)             (None, 148, 148, 32)      896       \n",
            "                                                                 \n",
            " max_pooling2d (MaxPooling2D  (None, 74, 74, 32)       0         \n",
            " )                                                               \n",
            "                                                                 \n",
            " conv2d_1 (Conv2D)           (None, 72, 72, 32)        9248      \n",
            "                                                                 \n",
            " max_pooling2d_1 (MaxPooling  (None, 36, 36, 32)       0         \n",
            " 2D)                                                             \n",
            "                                                                 \n",
            " conv2d_2 (Conv2D)           (None, 34, 34, 128)       36992     \n",
            "                                                                 \n",
            " max_pooling2d_2 (MaxPooling  (None, 17, 17, 128)      0         \n",
            " 2D)                                                             \n",
            "                                                                 \n",
            " flatten (Flatten)           (None, 36992)             0         \n",
            "                                                                 \n",
            " dropout (Dropout)           (None, 36992)             0         \n",
            "                                                                 \n",
            " dense (Dense)               (None, 512)               18940416  \n",
            "                                                                 \n",
            " dense_1 (Dense)             (None, 3)                 1539      \n",
            "                                                                 \n",
            "=================================================================\n",
            "Total params: 18,989,091\n",
            "Trainable params: 18,989,091\n",
            "Non-trainable params: 0\n",
            "_________________________________________________________________\n"
          ]
        }
      ],
      "source": [
        "model = tf.keras.models.Sequential([\n",
        "  tf.keras.layers.Conv2D(32, (3,3), activation = 'relu', input_shape= (150,150,3)),\n",
        "  tf.keras.layers.MaxPooling2D(2,2),\n",
        "  tf.keras.layers.Conv2D(32,(3,3), activation= 'relu'),\n",
        "  tf.keras.layers.MaxPooling2D(2,2),\n",
        "  tf.keras.layers.Conv2D(128,(3,3), activation= 'relu'),\n",
        "  tf.keras.layers.MaxPooling2D(2,2),\n",
        "  tf.keras.layers.Flatten(),\n",
        "  tf.keras.layers.Dropout(0.5),\n",
        "  tf.keras.layers.Dense(512, activation= 'relu'),\n",
        "  tf.keras.layers.Dense(3, activation= 'softmax')\n",
        "])\n",
        "\n",
        "model.summary()\n",
        "model.compile(loss='categorical_crossentropy',\n",
        "              optimizer=tf.optimizers.Adam(),\n",
        "              metrics=['accuracy'])"
      ]
    },
    {
      "cell_type": "code",
      "execution_count": null,
      "metadata": {
        "id": "jPXOHvmMojNr",
        "colab": {
          "base_uri": "https://localhost:8080/"
        },
        "outputId": "05900223-ce56-480f-f272-9f3c5016fc09"
      },
      "outputs": [
        {
          "output_type": "stream",
          "name": "stdout",
          "text": [
            "Epoch 1/30\n",
            "41/41 [==============================] - 28s 404ms/step - loss: 1.1205 - accuracy: 0.4627 - val_loss: 1.3939 - val_accuracy: 0.5046\n",
            "Epoch 2/30\n",
            "41/41 [==============================] - 16s 392ms/step - loss: 0.4251 - accuracy: 0.8323 - val_loss: 2.9080 - val_accuracy: 0.6377\n",
            "Epoch 3/30\n",
            "41/41 [==============================] - 16s 390ms/step - loss: 0.1348 - accuracy: 0.9657 - val_loss: 3.7510 - val_accuracy: 0.6308\n"
          ]
        }
      ],
      "source": [
        "history = model.fit(\n",
        "    train_generator,\n",
        "    steps_per_epoch = 41, \n",
        "    epochs = 30,\n",
        "    validation_data = val_generator,\n",
        "    validation_steps = 27, \n",
        "    verbose=1,\n",
        "    callbacks=[callbacks]\n",
        ")"
      ]
    },
    {
      "cell_type": "code",
      "execution_count": null,
      "metadata": {
        "id": "KC4z6Go0ok9X",
        "colab": {
          "base_uri": "https://localhost:8080/",
          "height": 295
        },
        "outputId": "1cf74c37-1962-4203-890e-df6e16206223"
      },
      "outputs": [
        {
          "output_type": "display_data",
          "data": {
            "text/plain": [
              "<Figure size 432x288 with 1 Axes>"
            ],
            "image/png": "[encoded data removed]"
          },
          "metadata": {
            "needs_background": "light"
          }
        }
      ],
      "source": [
        "plt.plot(history.history['loss'], label='Training Loss')\n",
        "plt.plot(history.history['val_loss'], label='Validation Loss')\n",
        "plt.title('Loss Plot')\n",
        "plt.ylabel('Value')\n",
        "plt.xlabel('Epoch')\n",
        "plt.legend(loc=\"upper right\")\n",
        "plt.show()"
      ]
    },
    {
      "cell_type": "code",
      "execution_count": null,
      "metadata": {
        "id": "5XCSN5mRomXV",
        "colab": {
          "base_uri": "https://localhost:8080/",
          "height": 295
        },
        "outputId": "615eaf4d-cd9c-4c1a-f981-fccab856403d"
      },
      "outputs": [
        {
          "output_type": "display_data",
          "data": {
            "text/plain": [
              "<Figure size 432x288 with 1 Axes>"
            ],
            "image/png": "[encoded data removed]"
          },
          "metadata": {
            "needs_background": "light"
          }
        }
      ],
      "source": [
        "plt.plot(history.history['accuracy'], label='Training Accuracy')\n",
        "plt.plot(history.history['val_accuracy'], label='Validation Accuracy')\n",
        "plt.title('Accuracy Plot')\n",
        "plt.ylabel('Value')\n",
        "plt.xlabel('Epoch')\n",
        "plt.legend(loc=\"lower right\")\n",
        "plt.show()"
      ]
    },
    {
      "cell_type": "code",
      "execution_count": null,
      "metadata": {
        "id": "3boaa9pzonrI"
      },
      "outputs": [],
      "source": [
        "from google.colab import files\n",
        "uploaded = files.upload()\n",
        "\n",
        "for fn in uploaded.keys():\n",
        "  path = fn \n",
        "  img = image.load_img(path, target_size =(150,150))\n",
        "  imgplot = plt.imshow(img)\n",
        "  x = image.img_to_array(img)\n",
        "  x = np.expand_dims(x, axis=0)\n",
        "\n",
        "  images = np.vstack([x])\n",
        "  classes = model.predict(images, batch_size=10)\n",
        "\n",
        "  print(fn)\n",
        "  if classes[0,0]!=0:\n",
        "    print('paper')\n",
        "  elif classes[0,1]!=0:\n",
        "    print('rock')\n",
        "  else:\n",
        "    print('scissors')"
      ]
    }
  ],
  "metadata": {
    "colab": {
      "collapsed_sections": [],
      "name": "RPS.ipynb",
      "provenance": [],
      "include_colab_link": true
    },
    "kernelspec": {
      "display_name": "Python 3",
      "name": "python3"
    },
    "accelerator": "GPU",
    "gpuClass": "standard"
  },
  "nbformat": 4,
  "nbformat_minor": 0
}